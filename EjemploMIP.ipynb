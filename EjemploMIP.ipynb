{
  "nbformat": 4,
  "nbformat_minor": 0,
  "metadata": {
    "colab": {
      "provenance": []
    },
    "kernelspec": {
      "name": "python3",
      "display_name": "Python 3"
    },
    "language_info": {
      "name": "python"
    }
  },
  "cells": [
    {
      "cell_type": "markdown",
      "source": [
        "# Ejemplo aplicación de problema de optimización básico\n",
        "\n",
        "A continuación se tienen 3 genradores con los siguiente parámetros:\n",
        "- Disponibilidad\n",
        "- Mínimo Técnico\n",
        "- Precio\n",
        "\n",
        "Las cargas tiene el valor de cada una.\n",
        "\n",
        "Se tiene las siguientes restricciones:\n",
        "\n",
        "- Balance\n",
        "- Máxima generación\n",
        "- Mínima generación\n",
        "- Máxima generación de un grupo de generadores\n"
      ],
      "metadata": {
        "id": "z-MCCRhKqs58"
      }
    },
    {
      "cell_type": "code",
      "source": [
        "# Instalación de la librería para optimización\n",
        "!pip install mip"
      ],
      "metadata": {
        "colab": {
          "base_uri": "https://localhost:8080/",
          "height": 339
        },
        "id": "rzgzacj7rTyO",
        "outputId": "3d3731cb-ee6f-499f-c66f-24eb36f18d2a"
      },
      "execution_count": null,
      "outputs": [
        {
          "output_type": "stream",
          "name": "stdout",
          "text": [
            "Collecting mip\n",
            "  Downloading mip-1.15.0-py3-none-any.whl (15.3 MB)\n",
            "\u001b[2K     \u001b[90m━━━━━━━━━━━━━━━━━━━━━━━━━━━━━━━━━━━━━━━━\u001b[0m \u001b[32m15.3/15.3 MB\u001b[0m \u001b[31m45.4 MB/s\u001b[0m eta \u001b[36m0:00:00\u001b[0m\n",
            "\u001b[?25hCollecting cffi==1.15.* (from mip)\n",
            "  Downloading cffi-1.15.1-cp310-cp310-manylinux_2_17_x86_64.manylinux2014_x86_64.whl (441 kB)\n",
            "\u001b[2K     \u001b[90m━━━━━━━━━━━━━━━━━━━━━━━━━━━━━━━━━━━━━━━━\u001b[0m \u001b[32m441.8/441.8 kB\u001b[0m \u001b[31m39.3 MB/s\u001b[0m eta \u001b[36m0:00:00\u001b[0m\n",
            "\u001b[?25hRequirement already satisfied: pycparser in /usr/local/lib/python3.10/dist-packages (from cffi==1.15.*->mip) (2.21)\n",
            "Installing collected packages: cffi, mip\n",
            "  Attempting uninstall: cffi\n",
            "    Found existing installation: cffi 1.16.0\n",
            "    Uninstalling cffi-1.16.0:\n",
            "      Successfully uninstalled cffi-1.16.0\n",
            "Successfully installed cffi-1.15.1 mip-1.15.0\n"
          ]
        },
        {
          "output_type": "display_data",
          "data": {
            "application/vnd.colab-display-data+json": {
              "pip_warning": {
                "packages": [
                  "cffi"
                ]
              },
              "id": "ae18d5bbfd444306a1c892ade60cac2c"
            }
          },
          "metadata": {}
        }
      ]
    },
    {
      "cell_type": "markdown",
      "source": [
        "### Se tiene el sigueinte sistema\n",
        "\n",
        "![image.png](data:image/png;base64,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)\n"
      ],
      "metadata": {
        "id": "LvzZe4a4s58t"
      }
    },
    {
      "cell_type": "code",
      "source": [
        "from mip import *\n",
        "\n",
        "# Parámetros Generadors\n",
        "pNameGen=['Gen1','Gen2','Gen3']\n",
        "pDisp = [100, 70, 50]\n",
        "pPrecio = [40, 80, 120]\n",
        "pMT = [10, 0, 20]\n",
        "\n",
        "# Indezación de los generadores\n",
        "I=range(0,len(pNameGen))\n",
        "\n",
        "#Parámetros demanda\n",
        "pNameDem=['D1','D2']\n",
        "pDem = [100, 35]\n",
        "\n",
        "# Parámetro de máxima generación en un grupo de generadores\n",
        "GenMaxGrupo12=130\n",
        "\n",
        "# Indexación de las cargas\n",
        "I1=range(0,len(pNameDem))\n",
        "\n",
        "# Definición del modelo\n",
        "m = Model(name=\"DE\",sense=MINIMIZE, solver_name=CBC)\n",
        "\n",
        "# Definición de variables\n",
        "vGen = [m.add_var(var_type=CONTINUOUS,lb=0) for i in I]\n",
        "vOnOff = [m.add_var(var_type=BINARY) for i in I]\n",
        "\n",
        "# Función Objetivo\n",
        "m.objective = (xsum(vGen[i] * pPrecio[i] for i in I))\n",
        "\n",
        "# Definición de restricciones\n",
        "# Balance\n",
        "m += xsum(vGen[i] for i in I) >= xsum(pDem[i1] for i1 in I1)\n",
        "\n",
        "for i in I:\n",
        "    # Restricción máxima generación por plantas\n",
        "    m += vGen[i] <= pDisp[i] * vOnOff[i]\n",
        "    # Restricción mínima generación\n",
        "    m += vGen[i] >= pMT[i] * vOnOff[i]\n",
        "\n",
        "# Máxima generación en un grupo de plantas\n",
        "m += vGen[0] + vGen[1] <=  GenMaxGrupo12\n",
        "\n",
        "# Optimización y Resultados\n",
        "\n",
        "# Escribir la matriz lp\n",
        "m.write('model.lp')\n",
        "m.verbose=0 #Para no imprimir los mensajes del solver en la pantalla. 1 valor por defecto si imprime\n",
        "\n",
        "# Ejecutar la optimización\n",
        "status=m.optimize()\n",
        "\n",
        "# Escribir la solución\n",
        "m.write('solution.sol')\n",
        "\n",
        "# Almacenar la solución en una variable\n",
        "solution=[print('Gen' + str(i) , vGen[i].x) for i in I]\n",
        "\n",
        "# Obtener el valor de la fución objetivo\n",
        "FO=m.objective_value\n",
        "print(FO)"
      ],
      "metadata": {
        "colab": {
          "base_uri": "https://localhost:8080/"
        },
        "id": "8HwsfZJ4r7kF",
        "outputId": "7ddb742b-6a01-4636-b0f3-9dc9cbaba1a8"
      },
      "execution_count": 1,
      "outputs": [
        {
          "output_type": "stream",
          "name": "stdout",
          "text": [
            "Gen0 100.0\n",
            "Gen1 15.0\n",
            "Gen2 20.0\n",
            "7600.0\n"
          ]
        }
      ]
    }
  ]
}